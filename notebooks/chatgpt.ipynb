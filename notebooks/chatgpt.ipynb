{
 "cells": [
  {
   "cell_type": "markdown",
   "id": "d8967937-9fe4-480c-8793-df739532490c",
   "metadata": {
    "execution": {
     "iopub.execute_input": "2023-12-10T21:54:23.016940Z",
     "iopub.status.busy": "2023-12-10T21:54:23.016627Z",
     "iopub.status.idle": "2023-12-10T21:54:23.019300Z",
     "shell.execute_reply": "2023-12-10T21:54:23.018890Z",
     "shell.execute_reply.started": "2023-12-10T21:54:23.016926Z"
    }
   },
   "source": [
    "# Preamble"
   ]
  },
  {
   "cell_type": "code",
   "execution_count": null,
   "id": "a6e2a883-6827-4506-9cd4-304cc5a9974c",
   "metadata": {
    "execution": {
     "iopub.execute_input": "2023-12-11T19:44:59.189689Z",
     "iopub.status.busy": "2023-12-11T19:44:59.189396Z",
     "iopub.status.idle": "2023-12-11T19:44:59.821801Z",
     "shell.execute_reply": "2023-12-11T19:44:59.821244Z",
     "shell.execute_reply.started": "2023-12-11T19:44:59.189676Z"
    },
    "tags": []
   },
   "outputs": [],
   "source": [
    "from openai import OpenAI\n",
    "import json\n",
    "import pandas as pd\n",
    "from sklearn.metrics import f1_score, precision_score, recall_score, accuracy_score\n",
    "from sklearn.metrics import confusion_matrix"
   ]
  },
  {
   "cell_type": "markdown",
   "id": "bd7847f8-0074-4aec-a325-1fec2f11b07f",
   "metadata": {
    "execution": {
     "iopub.execute_input": "2023-12-10T20:38:42.872546Z",
     "iopub.status.busy": "2023-12-10T20:38:42.872094Z",
     "iopub.status.idle": "2023-12-10T20:38:42.874866Z",
     "shell.execute_reply": "2023-12-10T20:38:42.874381Z",
     "shell.execute_reply.started": "2023-12-10T20:38:42.872533Z"
    }
   },
   "source": [
    "# OpenAI"
   ]
  },
  {
   "cell_type": "code",
   "execution_count": null,
   "id": "d495fbba-eb0a-4f27-bdbf-a1b1b53c9a2a",
   "metadata": {
    "execution": {
     "iopub.execute_input": "2023-12-11T19:44:59.822709Z",
     "iopub.status.busy": "2023-12-11T19:44:59.822472Z",
     "iopub.status.idle": "2023-12-11T19:44:59.825101Z",
     "shell.execute_reply": "2023-12-11T19:44:59.824710Z",
     "shell.execute_reply.started": "2023-12-11T19:44:59.822696Z"
    },
    "tags": []
   },
   "outputs": [],
   "source": [
    "#MODEL= \"gpt-3.5-turbo\"\n",
    "MODEL= \"gpt-4-0613\""
   ]
  },
  {
   "cell_type": "code",
   "execution_count": null,
   "id": "aaec742c-e6d0-46ae-a7e4-31eda8e77e7e",
   "metadata": {
    "execution": {
     "iopub.execute_input": "2023-12-11T19:44:59.826103Z",
     "iopub.status.busy": "2023-12-11T19:44:59.825977Z",
     "iopub.status.idle": "2023-12-11T19:44:59.828437Z",
     "shell.execute_reply": "2023-12-11T19:44:59.828089Z",
     "shell.execute_reply.started": "2023-12-11T19:44:59.826093Z"
    },
    "tags": []
   },
   "outputs": [],
   "source": [
    "API_KEY = 'ENTER-KEY'"
   ]
  },
  {
   "cell_type": "code",
   "execution_count": null,
   "id": "ef11545c-db6d-485d-a0ad-48dc66b643e1",
   "metadata": {
    "execution": {
     "iopub.execute_input": "2023-12-11T19:44:59.828997Z",
     "iopub.status.busy": "2023-12-11T19:44:59.828885Z",
     "iopub.status.idle": "2023-12-11T19:44:59.892892Z",
     "shell.execute_reply": "2023-12-11T19:44:59.892456Z",
     "shell.execute_reply.started": "2023-12-11T19:44:59.828988Z"
    },
    "tags": []
   },
   "outputs": [],
   "source": [
    "client = OpenAI(api_key= API_KEY)"
   ]
  },
  {
   "cell_type": "code",
   "execution_count": null,
   "id": "48e501b9-242a-4481-89c7-8fe11f8c22e0",
   "metadata": {
    "execution": {
     "iopub.execute_input": "2023-12-11T19:44:59.893767Z",
     "iopub.status.busy": "2023-12-11T19:44:59.893440Z",
     "iopub.status.idle": "2023-12-11T19:45:00.543717Z",
     "shell.execute_reply": "2023-12-11T19:45:00.543259Z",
     "shell.execute_reply.started": "2023-12-11T19:44:59.893756Z"
    },
    "tags": []
   },
   "outputs": [],
   "source": [
    "def query(question, verbose=False):\n",
    "    completion = client.chat.completions.create(\n",
    "        model=MODEL,\n",
    "        seed=0,\n",
    "        temperature=0.0,\n",
    "        messages=[\n",
    "            {\"role\": \"system\", \"content\": \"Answer binary causal questions with 'Yes' or 'No'.\"},\n",
    "            {\"role\": \"user\", \"content\": question}\n",
    "        ]\n",
    "    )\n",
    "    \n",
    "    if verbose:\n",
    "        print(completion)\n",
    "    \n",
    "    return completion.choices[0].message.content\n",
    "    \n",
    "\n",
    "query(\"May smoking cause cancer?\", verbose=True)"
   ]
  },
  {
   "cell_type": "markdown",
   "id": "f484b403-951c-4e71-b80b-d77bd1f69dc8",
   "metadata": {
    "execution": {
     "iopub.execute_input": "2023-12-11T16:32:00.569267Z",
     "iopub.status.busy": "2023-12-11T16:32:00.568609Z",
     "iopub.status.idle": "2023-12-11T16:32:00.571514Z",
     "shell.execute_reply": "2023-12-11T16:32:00.571053Z",
     "shell.execute_reply.started": "2023-12-11T16:32:00.569252Z"
    }
   },
   "source": [
    "# Evaluation"
   ]
  },
  {
   "cell_type": "code",
   "execution_count": null,
   "id": "0cc7a361-91d4-4ed9-aaff-50b3e6a25287",
   "metadata": {
    "execution": {
     "iopub.execute_input": "2023-12-11T19:45:00.544600Z",
     "iopub.status.busy": "2023-12-11T19:45:00.544395Z",
     "iopub.status.idle": "2023-12-11T19:45:00.548689Z",
     "shell.execute_reply": "2023-12-11T19:45:00.548299Z",
     "shell.execute_reply.started": "2023-12-11T19:45:00.544587Z"
    }
   },
   "outputs": [],
   "source": [
    "def compute_metrics(labels, predictions):\n",
    "    assert len(labels) == len(predictions)\n",
    "    metrics = {}\n",
    "    metrics['accuracy'] = round(accuracy_score(labels, predictions), 3)\n",
    "    metrics['f1_score'] = round(f1_score(labels, predictions, average='binary'), 3)\n",
    "    metrics['recall'] = round(recall_score(labels, predictions, average='binary'), 3)\n",
    "    metrics['precision'] = round(precision_score(labels, predictions, average='binary'), 3)\n",
    "\n",
    "    tn, fp, fn, tp = confusion_matrix(labels, predictions, labels=[0, 1]).ravel()\n",
    "    metrics['tp'] = round(tp, 3)\n",
    "    metrics['fn'] = round(fn, 3)\n",
    "    metrics['fp'] = round(fp, 3)\n",
    "    metrics['tn'] = round(tn, 3)\n",
    "\n",
    "    return metrics"
   ]
  },
  {
   "cell_type": "markdown",
   "id": "b8787706-627a-4ea6-9ee5-642ec95d838b",
   "metadata": {
    "execution": {
     "iopub.execute_input": "2023-12-10T20:38:56.035887Z",
     "iopub.status.busy": "2023-12-10T20:38:56.035361Z",
     "iopub.status.idle": "2023-12-10T20:38:56.037937Z",
     "shell.execute_reply": "2023-12-10T20:38:56.037567Z",
     "shell.execute_reply.started": "2023-12-10T20:38:56.035875Z"
    }
   },
   "source": [
    "# MS MARCO"
   ]
  },
  {
   "cell_type": "code",
   "execution_count": null,
   "id": "859a637f-6db8-4571-ab5d-572943a7ac16",
   "metadata": {
    "execution": {
     "iopub.execute_input": "2023-12-11T19:45:00.549431Z",
     "iopub.status.busy": "2023-12-11T19:45:00.549198Z",
     "iopub.status.idle": "2023-12-11T19:45:00.554965Z",
     "shell.execute_reply": "2023-12-11T19:45:00.554583Z",
     "shell.execute_reply.started": "2023-12-11T19:45:00.549420Z"
    },
    "tags": []
   },
   "outputs": [],
   "source": [
    "f = open('../datasets/msmarco_test.json')\n",
    "data = json.load(f)"
   ]
  },
  {
   "cell_type": "code",
   "execution_count": null,
   "id": "2eac55a5-5759-48a3-8732-5c64c8363f47",
   "metadata": {
    "execution": {
     "iopub.execute_input": "2023-12-11T19:45:00.555637Z",
     "iopub.status.busy": "2023-12-11T19:45:00.555451Z",
     "iopub.status.idle": "2023-12-11T19:45:00.557906Z",
     "shell.execute_reply": "2023-12-11T19:45:00.557543Z",
     "shell.execute_reply.started": "2023-12-11T19:45:00.555628Z"
    }
   },
   "outputs": [],
   "source": [
    "filtered = []\n",
    "for item in data:\n",
    "    if item['answer:Extracted'] != ['No Answer Present.']:\n",
    "        filtered.append(item)"
   ]
  },
  {
   "cell_type": "code",
   "execution_count": null,
   "id": "b75b25da-3869-4eac-848a-52b17f1426db",
   "metadata": {
    "execution": {
     "iopub.execute_input": "2023-12-11T19:45:00.559436Z",
     "iopub.status.busy": "2023-12-11T19:45:00.559215Z",
     "iopub.status.idle": "2023-12-11T19:45:00.562007Z",
     "shell.execute_reply": "2023-12-11T19:45:00.561664Z",
     "shell.execute_reply.started": "2023-12-11T19:45:00.559426Z"
    },
    "tags": []
   },
   "outputs": [],
   "source": [
    "len(filtered)"
   ]
  },
  {
   "cell_type": "code",
   "execution_count": null,
   "id": "28b2e144-9ed1-4fb1-8722-872b697f7770",
   "metadata": {
    "execution": {
     "iopub.execute_input": "2023-12-11T19:45:00.562683Z",
     "iopub.status.busy": "2023-12-11T19:45:00.562467Z",
     "iopub.status.idle": "2023-12-11T19:47:20.629275Z",
     "shell.execute_reply": "2023-12-11T19:47:20.628768Z",
     "shell.execute_reply.started": "2023-12-11T19:45:00.562674Z"
    },
    "tags": []
   },
   "outputs": [],
   "source": [
    "for item in filtered:\n",
    "    question = item['question']\n",
    "    prediction = query(question)\n",
    "    item['answer:Predicted'] = [prediction]"
   ]
  },
  {
   "cell_type": "code",
   "execution_count": null,
   "id": "9de47c70-ea6a-4396-b081-dddbb61bd1be",
   "metadata": {
    "execution": {
     "iopub.execute_input": "2023-12-11T19:47:20.630027Z",
     "iopub.status.busy": "2023-12-11T19:47:20.629892Z",
     "iopub.status.idle": "2023-12-11T19:47:20.632363Z",
     "shell.execute_reply": "2023-12-11T19:47:20.631993Z",
     "shell.execute_reply.started": "2023-12-11T19:47:20.630014Z"
    }
   },
   "outputs": [],
   "source": [
    "FILE_MS_MARCO_RESULTS = f'msmarco_test_{MODEL}.json'"
   ]
  },
  {
   "cell_type": "code",
   "execution_count": null,
   "id": "7508df52-c343-4847-a782-6bf193fe4282",
   "metadata": {
    "execution": {
     "iopub.execute_input": "2023-12-11T19:47:20.633108Z",
     "iopub.status.busy": "2023-12-11T19:47:20.632825Z",
     "iopub.status.idle": "2023-12-11T19:47:20.642222Z",
     "shell.execute_reply": "2023-12-11T19:47:20.641834Z",
     "shell.execute_reply.started": "2023-12-11T19:47:20.633099Z"
    },
    "tags": []
   },
   "outputs": [],
   "source": [
    "with open(FILE_MS_MARCO_RESULTS, 'w') as f:\n",
    "    json.dump(filtered, f)"
   ]
  },
  {
   "cell_type": "code",
   "execution_count": null,
   "id": "4705a4be-9501-41cc-b02d-6ed40a041f5f",
   "metadata": {
    "execution": {
     "iopub.execute_input": "2023-12-11T19:47:20.642922Z",
     "iopub.status.busy": "2023-12-11T19:47:20.642751Z",
     "iopub.status.idle": "2023-12-11T19:47:20.646238Z",
     "shell.execute_reply": "2023-12-11T19:47:20.645868Z",
     "shell.execute_reply.started": "2023-12-11T19:47:20.642912Z"
    },
    "tags": []
   },
   "outputs": [],
   "source": [
    "f = open(FILE_MS_MARCO_RESULTS)\n",
    "filtered = json.load(f)"
   ]
  },
  {
   "cell_type": "code",
   "execution_count": null,
   "id": "339747a0-383e-4a54-92c3-7f5cd1edaa0e",
   "metadata": {
    "execution": {
     "iopub.execute_input": "2023-12-11T19:47:20.646930Z",
     "iopub.status.busy": "2023-12-11T19:47:20.646704Z",
     "iopub.status.idle": "2023-12-11T19:47:20.649071Z",
     "shell.execute_reply": "2023-12-11T19:47:20.648705Z",
     "shell.execute_reply.started": "2023-12-11T19:47:20.646921Z"
    },
    "tags": []
   },
   "outputs": [],
   "source": [
    "labels = []\n",
    "for item in filtered:\n",
    "    labels.append(item['answer:Extracted'][0] == 'Yes')"
   ]
  },
  {
   "cell_type": "code",
   "execution_count": null,
   "id": "bbf4f534-8b1a-45df-83ab-bedd9a0745f7",
   "metadata": {
    "execution": {
     "iopub.execute_input": "2023-12-11T19:47:20.649748Z",
     "iopub.status.busy": "2023-12-11T19:47:20.649526Z",
     "iopub.status.idle": "2023-12-11T19:47:20.652196Z",
     "shell.execute_reply": "2023-12-11T19:47:20.651843Z",
     "shell.execute_reply.started": "2023-12-11T19:47:20.649739Z"
    },
    "tags": []
   },
   "outputs": [],
   "source": [
    "predictions = []\n",
    "for item in filtered:\n",
    "    predictions.append(item['answer:Predicted'][0].lower().startswith('yes'))"
   ]
  },
  {
   "cell_type": "code",
   "execution_count": null,
   "id": "e3b846dc-444c-41ec-bca8-2210a993a392",
   "metadata": {
    "execution": {
     "iopub.execute_input": "2023-12-11T19:47:20.652829Z",
     "iopub.status.busy": "2023-12-11T19:47:20.652653Z",
     "iopub.status.idle": "2023-12-11T19:47:20.660836Z",
     "shell.execute_reply": "2023-12-11T19:47:20.660488Z",
     "shell.execute_reply.started": "2023-12-11T19:47:20.652820Z"
    }
   },
   "outputs": [],
   "source": [
    "compute_metrics(labels, predictions)"
   ]
  },
  {
   "cell_type": "markdown",
   "id": "1e6eed02-f8d7-437e-a304-8b7a292cb43c",
   "metadata": {
    "execution": {
     "iopub.execute_input": "2023-12-10T21:22:51.343697Z",
     "iopub.status.busy": "2023-12-10T21:22:51.343160Z",
     "iopub.status.idle": "2023-12-10T21:22:51.345953Z",
     "shell.execute_reply": "2023-12-10T21:22:51.345568Z",
     "shell.execute_reply.started": "2023-12-10T21:22:51.343683Z"
    }
   },
   "source": [
    "# SemEval"
   ]
  },
  {
   "cell_type": "code",
   "execution_count": null,
   "id": "4e9d9448-c19d-4f91-b36c-daa00f48e908",
   "metadata": {
    "execution": {
     "iopub.execute_input": "2023-12-11T19:47:20.661429Z",
     "iopub.status.busy": "2023-12-11T19:47:20.661317Z",
     "iopub.status.idle": "2023-12-11T19:47:20.666030Z",
     "shell.execute_reply": "2023-12-11T19:47:20.665652Z",
     "shell.execute_reply.started": "2023-12-11T19:47:20.661420Z"
    },
    "tags": []
   },
   "outputs": [],
   "source": [
    "df = pd.read_csv('../datasets/sem_test.csv')"
   ]
  },
  {
   "cell_type": "code",
   "execution_count": null,
   "id": "053b8c7f-b316-43d3-bd9b-2b117527be6b",
   "metadata": {
    "execution": {
     "iopub.execute_input": "2023-12-11T19:47:20.666620Z",
     "iopub.status.busy": "2023-12-11T19:47:20.666506Z",
     "iopub.status.idle": "2023-12-11T19:48:53.177250Z",
     "shell.execute_reply": "2023-12-11T19:48:53.176795Z",
     "shell.execute_reply.started": "2023-12-11T19:47:20.666611Z"
    },
    "tags": []
   },
   "outputs": [],
   "source": [
    "predictions = []\n",
    "for item in df.itertuples():\n",
    "    question = f'Can {item.cause} cause {item.effect}?'\n",
    "    answer = query(question)\n",
    "    predictions.append(answer)\n",
    "    \n",
    "df['predictions'] = predictions"
   ]
  },
  {
   "cell_type": "code",
   "execution_count": null,
   "id": "42c945c2-8e14-44aa-94fd-f7e3ca6ea81b",
   "metadata": {
    "execution": {
     "iopub.execute_input": "2023-12-11T19:48:53.178037Z",
     "iopub.status.busy": "2023-12-11T19:48:53.177847Z",
     "iopub.status.idle": "2023-12-11T19:48:53.180288Z",
     "shell.execute_reply": "2023-12-11T19:48:53.179922Z",
     "shell.execute_reply.started": "2023-12-11T19:48:53.178026Z"
    },
    "tags": []
   },
   "outputs": [],
   "source": [
    "FILE_SEMEVAL_RESULTS = f'sem_test_{MODEL}.csv'"
   ]
  },
  {
   "cell_type": "code",
   "execution_count": null,
   "id": "b705fce4-bf29-4016-a2ba-ceb02ec3590e",
   "metadata": {
    "execution": {
     "iopub.execute_input": "2023-12-11T19:48:53.180960Z",
     "iopub.status.busy": "2023-12-11T19:48:53.180770Z",
     "iopub.status.idle": "2023-12-11T19:48:53.185324Z",
     "shell.execute_reply": "2023-12-11T19:48:53.184890Z",
     "shell.execute_reply.started": "2023-12-11T19:48:53.180950Z"
    },
    "tags": []
   },
   "outputs": [],
   "source": [
    "df.to_csv(FILE_SEMEVAL_RESULTS)"
   ]
  },
  {
   "cell_type": "code",
   "execution_count": null,
   "id": "f5343f4c-6987-4152-aeb5-cf647f575060",
   "metadata": {
    "execution": {
     "iopub.execute_input": "2023-12-11T19:48:53.185914Z",
     "iopub.status.busy": "2023-12-11T19:48:53.185801Z",
     "iopub.status.idle": "2023-12-11T19:48:53.189051Z",
     "shell.execute_reply": "2023-12-11T19:48:53.188670Z",
     "shell.execute_reply.started": "2023-12-11T19:48:53.185905Z"
    },
    "tags": []
   },
   "outputs": [],
   "source": [
    "df = pd.read_csv(FILE_SEMEVAL_RESULTS)"
   ]
  },
  {
   "cell_type": "code",
   "execution_count": null,
   "id": "d5940501-4bff-4e33-baa2-d247f95d9ed6",
   "metadata": {
    "execution": {
     "iopub.execute_input": "2023-12-11T19:48:53.189650Z",
     "iopub.status.busy": "2023-12-11T19:48:53.189534Z",
     "iopub.status.idle": "2023-12-11T19:48:53.192453Z",
     "shell.execute_reply": "2023-12-11T19:48:53.192090Z",
     "shell.execute_reply.started": "2023-12-11T19:48:53.189641Z"
    },
    "tags": []
   },
   "outputs": [],
   "source": [
    "labels = []\n",
    "predictions = []\n",
    "for item in df.itertuples():\n",
    "    labels.append(item.causal == 'causal')\n",
    "    predictions.append(item.predictions.lower().startswith('yes'))"
   ]
  },
  {
   "cell_type": "code",
   "execution_count": null,
   "id": "8f7ce93e-3af7-49ee-a0ca-ba011620d884",
   "metadata": {
    "execution": {
     "iopub.execute_input": "2023-12-11T19:48:53.193111Z",
     "iopub.status.busy": "2023-12-11T19:48:53.192927Z",
     "iopub.status.idle": "2023-12-11T19:48:53.196006Z",
     "shell.execute_reply": "2023-12-11T19:48:53.195669Z",
     "shell.execute_reply.started": "2023-12-11T19:48:53.193101Z"
    },
    "tags": []
   },
   "outputs": [],
   "source": [
    "len(predictions)"
   ]
  },
  {
   "cell_type": "code",
   "execution_count": null,
   "id": "36dd0c4d-ce21-4e95-b960-042917cb894c",
   "metadata": {
    "execution": {
     "iopub.execute_input": "2023-12-11T19:48:53.196690Z",
     "iopub.status.busy": "2023-12-11T19:48:53.196468Z",
     "iopub.status.idle": "2023-12-11T19:48:53.203279Z",
     "shell.execute_reply": "2023-12-11T19:48:53.202933Z",
     "shell.execute_reply.started": "2023-12-11T19:48:53.196681Z"
    },
    "tags": []
   },
   "outputs": [],
   "source": [
    "compute_metrics(labels, predictions)"
   ]
  },
  {
   "cell_type": "code",
   "execution_count": null,
   "id": "2c8853dd-f083-47c9-aa91-14511e4e1509",
   "metadata": {},
   "outputs": [],
   "source": []
  }
 ],
 "metadata": {
  "kernelspec": {
   "display_name": "Python (causalqa)",
   "language": "python",
   "name": "causalqa"
  },
  "language_info": {
   "codemirror_mode": {
    "name": "ipython",
    "version": 3
   },
   "file_extension": ".py",
   "mimetype": "text/x-python",
   "name": "python",
   "nbconvert_exporter": "python",
   "pygments_lexer": "ipython3",
   "version": "3.9.18"
  }
 },
 "nbformat": 4,
 "nbformat_minor": 5
}
